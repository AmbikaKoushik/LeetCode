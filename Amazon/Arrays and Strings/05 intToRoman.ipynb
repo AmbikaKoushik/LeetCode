{
 "cells": [
  {
   "cell_type": "code",
   "execution_count": 26,
   "metadata": {},
   "outputs": [],
   "source": [
    "#Optimum solution1 for num <=3999\n",
    "def intToRoman(num):\n",
    "        MAP = {0: \"\", 1: \"I\", 2: \"II\", 3: \"III\", 4: \"IV\", 5: \"V\", 6: \"VI\", 7: \"VII\", 8: \"VIII\", 9: \"IX\",\n",
    "              10: \"X\", 20: \"XX\", 30: \"XXX\", 40: \"XL\", 50: \"L\", 60: \"LX\", 70: \"LXX\", 80: \"LXXX\", 90: \"XC\",\n",
    "     100: \"C\", 200: \"CC\", 300: \"CCC\", 400: \"CD\", 500: \"D\", 600: \"DC\", 700: \"DCC\", 800: \"DCCC\", 900: \"CM\",\n",
    "    1000: \"M\", 2000: \"MM\", 3000: \"MMM\",\n",
    "}\n",
    "        return MAP[num // 1000 * 1000] + MAP[(num % 1000) // 100 * 100] + MAP[(num % 100) // 10 * 10] + MAP[num % 10]"
   ]
  },
  {
   "cell_type": "code",
   "execution_count": 27,
   "metadata": {},
   "outputs": [
    {
     "data": {
      "text/plain": [
       "'MMMCMXCIX'"
      ]
     },
     "execution_count": 27,
     "metadata": {},
     "output_type": "execute_result"
    }
   ],
   "source": [
    "intToRoman(3999)"
   ]
  },
  {
   "cell_type": "code",
   "execution_count": 28,
   "metadata": {},
   "outputs": [],
   "source": [
    "#Optimum solution2 for num <=3999\n",
    "def intToRoman(num):\n",
    "        r = ''\n",
    "        \n",
    "        thousands = num // 1000\n",
    "        r += 'M' * thousands\n",
    "        num -= thousands * 1000\n",
    "        \n",
    "        hundreds = num // 100\n",
    "        r += {0: '', 1: 'C', 2: 'CC', 3: 'CCC', 4: 'CD', \\\n",
    "              5: 'D', 6: 'DC', 7: 'DCC', 8: 'DCCC', 9: 'CM'}[hundreds]\n",
    "        num -= hundreds * 100\n",
    "        \n",
    "        tens = num // 10\n",
    "        r += {0: '', 1: 'X', 2: 'XX', 3: 'XXX', 4: 'XL', \\\n",
    "             5: 'L', 6: 'LX', 7: 'LXX', 8: 'LXXX', 9: 'XC'}[tens]\n",
    "        num -= tens * 10\n",
    "        \n",
    "        r += {0: '', 1: 'I', 2: 'II', 3: 'III', 4: 'IV', \\\n",
    "             5: 'V', 6: 'VI', 7: 'VII', 8: 'VIII', 9: 'IX'}[num]\n",
    "        \n",
    "        return r"
   ]
  },
  {
   "cell_type": "code",
   "execution_count": 29,
   "metadata": {},
   "outputs": [
    {
     "data": {
      "text/plain": [
       "'MMMCMXCIX'"
      ]
     },
     "execution_count": 29,
     "metadata": {},
     "output_type": "execute_result"
    }
   ],
   "source": [
    "intToRoman(3999)"
   ]
  },
  {
   "cell_type": "code",
   "execution_count": 30,
   "metadata": {},
   "outputs": [],
   "source": [
    "#Our solution works for any value of num\n",
    "def intToRoman(num):\n",
    "    d = {'M' : 1000, 'CM' : 900, 'D' : 500, 'CD': 400, 'C' : 100, 'XC' : 90,\n",
    "         'L' : 50, 'XL':40, 'X' : 10, 'IX': 9, 'V' : 5, 'IV' : 4, 'I' : 1}\n",
    "    roman = ''\n",
    "    for key, value in d.items():\n",
    "        n = num//value\n",
    "        if n > 0:\n",
    "            roman += n*key\n",
    "            num = num%value\n",
    "            \n",
    "    return roman"
   ]
  },
  {
   "cell_type": "code",
   "execution_count": 31,
   "metadata": {},
   "outputs": [
    {
     "data": {
      "text/plain": [
       "'MMMMMMMMMMMMMMMMMMMMMMMMMMMMMMMMMMMMMMMCMXCIX'"
      ]
     },
     "execution_count": 31,
     "metadata": {},
     "output_type": "execute_result"
    }
   ],
   "source": [
    "intToRoman(39999)"
   ]
  },
  {
   "cell_type": "code",
   "execution_count": 32,
   "metadata": {},
   "outputs": [],
   "source": [
    "class Solution:\n",
    "    def intToRoman(self, num: int) -> str:\n",
    "        d = {'M' : 1000, 'CM' : 900, 'D' : 500, 'CD': 400, 'C' : 100, 'XC' : 90,\n",
    "             'L' : 50, 'XL':40, 'X' : 10, 'IX': 9, 'V' : 5, 'IV' : 4, 'I' : 1}\n",
    "        roman = ''\n",
    "        for key, value in d.items():\n",
    "            if num >= value:\n",
    "                roman += (num//value)*key\n",
    "                num = num%value\n",
    "\n",
    "        return roman"
   ]
  },
  {
   "cell_type": "code",
   "execution_count": 33,
   "metadata": {},
   "outputs": [
    {
     "data": {
      "text/plain": [
       "'MMMMMMMMMMMMMMMMMMMMMMMMMMMMMMMMMMMMMMMCMXCIX'"
      ]
     },
     "execution_count": 33,
     "metadata": {},
     "output_type": "execute_result"
    }
   ],
   "source": [
    "intToRoman(39999)"
   ]
  },
  {
   "cell_type": "code",
   "execution_count": null,
   "metadata": {},
   "outputs": [],
   "source": []
  }
 ],
 "metadata": {
  "kernelspec": {
   "display_name": "Python 3",
   "language": "python",
   "name": "python3"
  },
  "language_info": {
   "codemirror_mode": {
    "name": "ipython",
    "version": 3
   },
   "file_extension": ".py",
   "mimetype": "text/x-python",
   "name": "python",
   "nbconvert_exporter": "python",
   "pygments_lexer": "ipython3",
   "version": "3.7.1"
  }
 },
 "nbformat": 4,
 "nbformat_minor": 2
}

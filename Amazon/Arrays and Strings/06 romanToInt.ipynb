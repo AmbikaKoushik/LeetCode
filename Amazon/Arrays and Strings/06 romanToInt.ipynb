{
 "cells": [
  {
   "cell_type": "code",
   "execution_count": 52,
   "metadata": {},
   "outputs": [],
   "source": [
    "#Optimized Solution\n",
    "def romanToInt(s):\n",
    "    d = {\"I\": 1, \"V\": 5, \"X\": 10, \"L\": 50, \"C\": 100, \"D\": 500, \"M\": 1000}\n",
    "    total = 0\n",
    "    prev = 0\n",
    "    for c in s:\n",
    "        if c in d:\n",
    "            current = d[c]\n",
    "            if current > prev:\n",
    "                total += current - 2 * prev\n",
    "            else:\n",
    "                total += current\n",
    "            prev = current\n",
    "    return total"
   ]
  },
  {
   "cell_type": "code",
   "execution_count": 53,
   "metadata": {},
   "outputs": [
    {
     "data": {
      "text/plain": [
       "1994"
      ]
     },
     "execution_count": 53,
     "metadata": {},
     "output_type": "execute_result"
    }
   ],
   "source": [
    "romanToInt('MCMXCIV')"
   ]
  },
  {
   "cell_type": "code",
   "execution_count": 54,
   "metadata": {},
   "outputs": [],
   "source": [
    "def romanToInt(roman):\n",
    "    d = {'M' : 1000, 'CM' : 900, 'D' : 500, 'CD': 400, 'C' : 100, 'XC' : 90,\n",
    "         'L' : 50, 'XL':40, 'X' : 10, 'IX': 9, 'V' : 5, 'IV' : 4, 'I' : 1}\n",
    "    roman_letters = d.keys()\n",
    "    num = i = 0\n",
    "    l = len(roman)\n",
    "    while(i < l):\n",
    "        if i+1 < l and roman[i: i+2] in roman_letters:\n",
    "            num += d[roman[i:i+2]]\n",
    "            i += 2\n",
    "        else:\n",
    "            num += d[roman[i]]\n",
    "            i += 1\n",
    "    \n",
    "    return num"
   ]
  },
  {
   "cell_type": "code",
   "execution_count": 49,
   "metadata": {},
   "outputs": [
    {
     "data": {
      "text/plain": [
       "1994"
      ]
     },
     "execution_count": 49,
     "metadata": {},
     "output_type": "execute_result"
    }
   ],
   "source": [
    "romanToInt('MCMXCIV')"
   ]
  },
  {
   "cell_type": "code",
   "execution_count": null,
   "metadata": {},
   "outputs": [],
   "source": []
  }
 ],
 "metadata": {
  "kernelspec": {
   "display_name": "Python 3",
   "language": "python",
   "name": "python3"
  },
  "language_info": {
   "codemirror_mode": {
    "name": "ipython",
    "version": 3
   },
   "file_extension": ".py",
   "mimetype": "text/x-python",
   "name": "python",
   "nbconvert_exporter": "python",
   "pygments_lexer": "ipython3",
   "version": "3.7.1"
  }
 },
 "nbformat": 4,
 "nbformat_minor": 2
}
